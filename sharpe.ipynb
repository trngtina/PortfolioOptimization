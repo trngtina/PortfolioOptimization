{
 "cells": [
  {
   "cell_type": "code",
   "execution_count": 90,
   "metadata": {},
   "outputs": [],
   "source": [
    "import yfinance as yf\n",
    "import pandas as pd\n",
    "from datetime import datetime, timedelta\n",
    "import numpy as np\n",
    "from scipy.optimize import minimize\n",
    "from fredapi import Fred"
   ]
  },
  {
   "cell_type": "code",
   "execution_count": 91,
   "metadata": {},
   "outputs": [],
   "source": [
    "tickers = [\"SPY\", \"BND\", \"GLD\", \"QQQ\", \"VTI\"]"
   ]
  },
  {
   "cell_type": "code",
   "execution_count": 92,
   "metadata": {},
   "outputs": [
    {
     "name": "stdout",
     "output_type": "stream",
     "text": [
      "2024-07-13 16:37:34.931373\n"
     ]
    }
   ],
   "source": [
    "end_date = datetime.today()\n",
    "print(end_date)"
   ]
  },
  {
   "cell_type": "code",
   "execution_count": 93,
   "metadata": {},
   "outputs": [
    {
     "name": "stdout",
     "output_type": "stream",
     "text": [
      "2019-07-15 16:37:34.931373\n"
     ]
    }
   ],
   "source": [
    "start_date = end_date - pd.to_timedelta(5 * 365, 'D')\n",
    "print(start_date)"
   ]
  },
  {
   "cell_type": "code",
   "execution_count": 94,
   "metadata": {},
   "outputs": [
    {
     "name": "stdout",
     "output_type": "stream",
     "text": [
      "[*********************100%%**********************]  1 of 1 completed\n",
      "[*********************100%%**********************]  1 of 1 completed"
     ]
    },
    {
     "name": "stderr",
     "output_type": "stream",
     "text": [
      "/Users/tina/anaconda3/envs/env_py_31011/lib/python3.10/site-packages/yfinance/utils.py:771: FutureWarning: The 'unit' keyword in TimedeltaIndex construction is deprecated and will be removed in a future version. Use pd.to_timedelta instead.\n",
      "  df.index += _pd.TimedeltaIndex(dst_error_hours, 'h')\n",
      "/Users/tina/anaconda3/envs/env_py_31011/lib/python3.10/site-packages/yfinance/utils.py:771: FutureWarning: The 'unit' keyword in TimedeltaIndex construction is deprecated and will be removed in a future version. Use pd.to_timedelta instead.\n",
      "  df.index += _pd.TimedeltaIndex(dst_error_hours, 'h')\n"
     ]
    },
    {
     "name": "stdout",
     "output_type": "stream",
     "text": [
      "\n",
      "[*********************100%%**********************]  1 of 1 completed\n",
      "[*********************100%%**********************]  1 of 1 completed"
     ]
    },
    {
     "name": "stderr",
     "output_type": "stream",
     "text": [
      "/Users/tina/anaconda3/envs/env_py_31011/lib/python3.10/site-packages/yfinance/utils.py:771: FutureWarning: The 'unit' keyword in TimedeltaIndex construction is deprecated and will be removed in a future version. Use pd.to_timedelta instead.\n",
      "  df.index += _pd.TimedeltaIndex(dst_error_hours, 'h')\n",
      "/Users/tina/anaconda3/envs/env_py_31011/lib/python3.10/site-packages/yfinance/utils.py:771: FutureWarning: The 'unit' keyword in TimedeltaIndex construction is deprecated and will be removed in a future version. Use pd.to_timedelta instead.\n",
      "  df.index += _pd.TimedeltaIndex(dst_error_hours, 'h')\n"
     ]
    },
    {
     "name": "stdout",
     "output_type": "stream",
     "text": [
      "\n",
      "[*********************100%%**********************]  1 of 1 completed\n"
     ]
    },
    {
     "name": "stderr",
     "output_type": "stream",
     "text": [
      "/Users/tina/anaconda3/envs/env_py_31011/lib/python3.10/site-packages/yfinance/utils.py:771: FutureWarning: The 'unit' keyword in TimedeltaIndex construction is deprecated and will be removed in a future version. Use pd.to_timedelta instead.\n",
      "  df.index += _pd.TimedeltaIndex(dst_error_hours, 'h')\n"
     ]
    }
   ],
   "source": [
    "adj_close_df = pd.DataFrame()\n",
    "\n",
    "for ticker in tickers:\n",
    "    data = yf.download(ticker, start = start_date, end = end_date)\n",
    "    adj_close_df[ticker] = data[\"Adj Close\"]"
   ]
  },
  {
   "cell_type": "code",
   "execution_count": 95,
   "metadata": {},
   "outputs": [
    {
     "name": "stdout",
     "output_type": "stream",
     "text": [
      "                   SPY        BND         GLD         QQQ         VTI\n",
      "Date                                                                 \n",
      "2019-07-15  277.972565  72.419449  133.529999  188.072922  141.750183\n",
      "2019-07-16  277.076050  72.323082  132.399994  187.104233  141.390076\n",
      "2019-07-17  275.190552  72.542122  134.580002  186.183960  140.457458\n",
      "2019-07-18  276.198029  72.673531  136.479996  186.397079  140.974548\n",
      "2019-07-19  274.663757  72.594650  134.470001  185.031189  140.171204\n",
      "...                ...        ...         ...         ...         ...\n",
      "2024-07-08  555.280029  72.400002  218.190002  497.339996  272.489990\n",
      "2024-07-09  555.820007  72.370003  218.559998  497.769989  272.420013\n",
      "2024-07-10  561.320007  72.430000  219.360001  502.959991  275.059998\n",
      "2024-07-11  556.479980  72.790001  223.250000  491.929993  273.829987\n",
      "2024-07-12  559.989990  72.980003  223.110001  494.820007  275.640015\n",
      "\n",
      "[1258 rows x 5 columns]\n"
     ]
    }
   ],
   "source": [
    "print(adj_close_df)"
   ]
  },
  {
   "cell_type": "code",
   "execution_count": 98,
   "metadata": {},
   "outputs": [],
   "source": [
    "log_returns = np.log(adj_close_df / adj_close_df.shift(1))"
   ]
  },
  {
   "cell_type": "code",
   "execution_count": 102,
   "metadata": {},
   "outputs": [
    {
     "data": {
      "text/html": [
       "<div>\n",
       "<style scoped>\n",
       "    .dataframe tbody tr th:only-of-type {\n",
       "        vertical-align: middle;\n",
       "    }\n",
       "\n",
       "    .dataframe tbody tr th {\n",
       "        vertical-align: top;\n",
       "    }\n",
       "\n",
       "    .dataframe thead th {\n",
       "        text-align: right;\n",
       "    }\n",
       "</style>\n",
       "<table border=\"1\" class=\"dataframe\">\n",
       "  <thead>\n",
       "    <tr style=\"text-align: right;\">\n",
       "      <th></th>\n",
       "      <th>SPY</th>\n",
       "      <th>BND</th>\n",
       "      <th>GLD</th>\n",
       "      <th>QQQ</th>\n",
       "      <th>VTI</th>\n",
       "    </tr>\n",
       "    <tr>\n",
       "      <th>Date</th>\n",
       "      <th></th>\n",
       "      <th></th>\n",
       "      <th></th>\n",
       "      <th></th>\n",
       "      <th></th>\n",
       "    </tr>\n",
       "  </thead>\n",
       "  <tbody>\n",
       "    <tr>\n",
       "      <th>2019-07-16</th>\n",
       "      <td>-0.003230</td>\n",
       "      <td>-0.001332</td>\n",
       "      <td>-0.008499</td>\n",
       "      <td>-0.005164</td>\n",
       "      <td>-0.002544</td>\n",
       "    </tr>\n",
       "    <tr>\n",
       "      <th>2019-07-17</th>\n",
       "      <td>-0.006828</td>\n",
       "      <td>0.003024</td>\n",
       "      <td>0.016331</td>\n",
       "      <td>-0.004931</td>\n",
       "      <td>-0.006618</td>\n",
       "    </tr>\n",
       "    <tr>\n",
       "      <th>2019-07-18</th>\n",
       "      <td>0.003654</td>\n",
       "      <td>0.001810</td>\n",
       "      <td>0.014019</td>\n",
       "      <td>0.001144</td>\n",
       "      <td>0.003675</td>\n",
       "    </tr>\n",
       "    <tr>\n",
       "      <th>2019-07-19</th>\n",
       "      <td>-0.005570</td>\n",
       "      <td>-0.001086</td>\n",
       "      <td>-0.014837</td>\n",
       "      <td>-0.007355</td>\n",
       "      <td>-0.005715</td>\n",
       "    </tr>\n",
       "    <tr>\n",
       "      <th>2019-07-22</th>\n",
       "      <td>0.002453</td>\n",
       "      <td>0.001086</td>\n",
       "      <td>-0.000149</td>\n",
       "      <td>0.007927</td>\n",
       "      <td>0.002369</td>\n",
       "    </tr>\n",
       "    <tr>\n",
       "      <th>...</th>\n",
       "      <td>...</td>\n",
       "      <td>...</td>\n",
       "      <td>...</td>\n",
       "      <td>...</td>\n",
       "      <td>...</td>\n",
       "    </tr>\n",
       "    <tr>\n",
       "      <th>2024-07-08</th>\n",
       "      <td>0.001153</td>\n",
       "      <td>0.000000</td>\n",
       "      <td>-0.012480</td>\n",
       "      <td>0.002375</td>\n",
       "      <td>0.001359</td>\n",
       "    </tr>\n",
       "    <tr>\n",
       "      <th>2024-07-09</th>\n",
       "      <td>0.000972</td>\n",
       "      <td>-0.000414</td>\n",
       "      <td>0.001694</td>\n",
       "      <td>0.000864</td>\n",
       "      <td>-0.000257</td>\n",
       "    </tr>\n",
       "    <tr>\n",
       "      <th>2024-07-10</th>\n",
       "      <td>0.009847</td>\n",
       "      <td>0.000829</td>\n",
       "      <td>0.003654</td>\n",
       "      <td>0.010373</td>\n",
       "      <td>0.009644</td>\n",
       "    </tr>\n",
       "    <tr>\n",
       "      <th>2024-07-11</th>\n",
       "      <td>-0.008660</td>\n",
       "      <td>0.004958</td>\n",
       "      <td>0.017578</td>\n",
       "      <td>-0.022174</td>\n",
       "      <td>-0.004482</td>\n",
       "    </tr>\n",
       "    <tr>\n",
       "      <th>2024-07-12</th>\n",
       "      <td>0.006288</td>\n",
       "      <td>0.002607</td>\n",
       "      <td>-0.000627</td>\n",
       "      <td>0.005858</td>\n",
       "      <td>0.006588</td>\n",
       "    </tr>\n",
       "  </tbody>\n",
       "</table>\n",
       "<p>1257 rows × 5 columns</p>\n",
       "</div>"
      ],
      "text/plain": [
       "                 SPY       BND       GLD       QQQ       VTI\n",
       "Date                                                        \n",
       "2019-07-16 -0.003230 -0.001332 -0.008499 -0.005164 -0.002544\n",
       "2019-07-17 -0.006828  0.003024  0.016331 -0.004931 -0.006618\n",
       "2019-07-18  0.003654  0.001810  0.014019  0.001144  0.003675\n",
       "2019-07-19 -0.005570 -0.001086 -0.014837 -0.007355 -0.005715\n",
       "2019-07-22  0.002453  0.001086 -0.000149  0.007927  0.002369\n",
       "...              ...       ...       ...       ...       ...\n",
       "2024-07-08  0.001153  0.000000 -0.012480  0.002375  0.001359\n",
       "2024-07-09  0.000972 -0.000414  0.001694  0.000864 -0.000257\n",
       "2024-07-10  0.009847  0.000829  0.003654  0.010373  0.009644\n",
       "2024-07-11 -0.008660  0.004958  0.017578 -0.022174 -0.004482\n",
       "2024-07-12  0.006288  0.002607 -0.000627  0.005858  0.006588\n",
       "\n",
       "[1257 rows x 5 columns]"
      ]
     },
     "execution_count": 102,
     "metadata": {},
     "output_type": "execute_result"
    }
   ],
   "source": [
    "log_returns.dropna(inplace=True)\n",
    "log_returns"
   ]
  },
  {
   "cell_type": "code",
   "execution_count": 106,
   "metadata": {},
   "outputs": [
    {
     "name": "stdout",
     "output_type": "stream",
     "text": [
      "          SPY       BND       GLD       QQQ       VTI\n",
      "SPY  0.044019  0.002959  0.003927  0.049619  0.045064\n",
      "BND  0.002959  0.004835  0.003906  0.003583  0.003155\n",
      "GLD  0.003927  0.003906  0.023369  0.005238  0.004159\n",
      "QQQ  0.049619  0.003583  0.005238  0.064476  0.050733\n",
      "VTI  0.045064  0.003155  0.004159  0.050733  0.046511\n"
     ]
    }
   ],
   "source": [
    "# Covariance matrix\n",
    "cov_matrix = log_returns.cov() * 252\n",
    "print(cov_matrix)"
   ]
  },
  {
   "cell_type": "code",
   "execution_count": 107,
   "metadata": {},
   "outputs": [],
   "source": [
    "def standard_deviation(weights, cov_matrix):\n",
    "    variance = weights.T @ cov_matrix @ weights\n",
    "    return np.sqrt(variance)"
   ]
  },
  {
   "cell_type": "code",
   "execution_count": 111,
   "metadata": {},
   "outputs": [],
   "source": [
    "def expected_return(weights, log_returns):\n",
    "    return np.sum(log_returns.mean() * weights) * 252"
   ]
  },
  {
   "cell_type": "markdown",
   "metadata": {},
   "source": [
    "$$\n",
    "SharpeRatio = {portfolioReturn - riskFreeRate \\over portfolioStd}\n",
    "$$"
   ]
  },
  {
   "cell_type": "code",
   "execution_count": 112,
   "metadata": {},
   "outputs": [],
   "source": [
    "def sharpe_ratio(weights, log_returns, cov_matrix, risk_free_rate):\n",
    "    return (expected_return(weights, log_returns) - risk_free_rate) / standard_deviation(weights, cov_matrix)"
   ]
  },
  {
   "cell_type": "code",
   "execution_count": 113,
   "metadata": {},
   "outputs": [
    {
     "name": "stderr",
     "output_type": "stream",
     "text": [
      "/Users/tina/anaconda3/envs/env_py_31011/lib/python3.10/site-packages/yfinance/utils.py:771: FutureWarning: The 'unit' keyword in TimedeltaIndex construction is deprecated and will be removed in a future version. Use pd.to_timedelta instead.\n",
      "  df.index += _pd.TimedeltaIndex(dst_error_hours, 'h')\n"
     ]
    },
    {
     "data": {
      "text/plain": [
       "0.04189000129699707"
      ]
     },
     "execution_count": 113,
     "metadata": {},
     "output_type": "execute_result"
    }
   ],
   "source": [
    "# Define the ticker symbol for the 10-year Treasury bond yield\n",
    "ticker = \"^TNX\"\n",
    "\n",
    "# Fetch the data\n",
    "ten_year_treasury = yf.Ticker(ticker)\n",
    "\n",
    "# Get the historical market data (we'll just fetch the latest data point)\n",
    "#hist = ten_year_treasury.history(start=end_date, end=end_date)\n",
    "hist = ten_year_treasury.history(period=\"300d\")\n",
    "\n",
    "# Extract the latest closing price (which represents the yield)\n",
    "risk_free_rate = hist['Close'].iloc[-1] / 100\n",
    "risk_free_rate"
   ]
  },
  {
   "cell_type": "code",
   "execution_count": 120,
   "metadata": {},
   "outputs": [],
   "source": [
    "def neg_sharpe_ratio(weights, log_returns, cov_matrix, risk_free_rate):\n",
    "    return -sharpe_ratio(weights, log_returns, cov_matrix, risk_free_rate)"
   ]
  },
  {
   "cell_type": "code",
   "execution_count": 126,
   "metadata": {},
   "outputs": [],
   "source": [
    "constraints = {'type': 'eq', 'fun': lambda weights: np.sum(weights) - 1}\n",
    "bounds = [(0, 0.4) for _ in range(len(tickers))]"
   ]
  },
  {
   "cell_type": "code",
   "execution_count": 127,
   "metadata": {},
   "outputs": [
    {
     "name": "stdout",
     "output_type": "stream",
     "text": [
      "[0.2 0.2 0.2 0.2 0.2]\n"
     ]
    }
   ],
   "source": [
    "initial_weights = np.repeat(1/len(tickers), len(tickers))\n",
    "print(initial_weights)"
   ]
  },
  {
   "cell_type": "code",
   "execution_count": 128,
   "metadata": {},
   "outputs": [],
   "source": [
    "optimize_results = minimize(neg_sharpe_ratio, initial_weights, args = (log_returns, cov_matrix, risk_free_rate), method = 'SLSQP',\n",
    "                            constraints=constraints, bounds=bounds)"
   ]
  },
  {
   "cell_type": "code",
   "execution_count": 129,
   "metadata": {},
   "outputs": [],
   "source": [
    "optimal_weights = optimize_results.x"
   ]
  },
  {
   "cell_type": "code",
   "execution_count": 130,
   "metadata": {},
   "outputs": [
    {
     "name": "stdout",
     "output_type": "stream",
     "text": [
      "Optimal weights:\n",
      "SPY: 0.2000\n",
      "BND: 0.0000\n",
      "GLD: 0.4000\n",
      "QQQ: 0.4000\n",
      "VTI: 0.0000\n",
      "\n",
      "Expected Annual Return: 0.1468\n",
      "Expected Portfolio Volatility: 0.1614\n",
      "Expected Sharpe ratio: 0.6500\n"
     ]
    }
   ],
   "source": [
    "print(\"Optimal weights:\")\n",
    "for ticker, weight in zip(tickers, optimal_weights):\n",
    "    print(f\"{ticker}: {weight:.4f}\")\n",
    "\n",
    "print()\n",
    "\n",
    "optimal_portfolio_return = expected_return(optimal_weights, log_returns)\n",
    "optimal_portfolio_volatility = standard_deviation(optimal_weights, cov_matrix)\n",
    "optimal_sharpe_ratio = sharpe_ratio(optimal_weights, log_returns, cov_matrix, risk_free_rate)\n",
    "\n",
    "print(f\"Expected Annual Return: {optimal_portfolio_return:.4f}\")\n",
    "print(f\"Expected Portfolio Volatility: {optimal_portfolio_volatility:.4f}\")\n",
    "print(f\"Expected Sharpe ratio: {optimal_sharpe_ratio:.4f}\")"
   ]
  }
 ],
 "metadata": {
  "kernelspec": {
   "display_name": "env_py_31011",
   "language": "python",
   "name": "python3"
  },
  "language_info": {
   "codemirror_mode": {
    "name": "ipython",
    "version": 3
   },
   "file_extension": ".py",
   "mimetype": "text/x-python",
   "name": "python",
   "nbconvert_exporter": "python",
   "pygments_lexer": "ipython3",
   "version": "3.10.14"
  }
 },
 "nbformat": 4,
 "nbformat_minor": 2
}
