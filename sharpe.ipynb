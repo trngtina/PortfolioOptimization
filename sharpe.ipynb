{
 "cells": [
  {
   "cell_type": "code",
   "execution_count": 1,
   "metadata": {},
   "outputs": [],
   "source": [
    "import yfinance as yf\n",
    "import pandas as pd\n",
    "from datetime import datetime, timedelta\n",
    "import numpy as np\n",
    "from scipy.optimize import minimize\n",
    "from fredapi import Fred"
   ]
  },
  {
   "cell_type": "code",
   "execution_count": 2,
   "metadata": {},
   "outputs": [],
   "source": [
    "tickers = [\"SPY\", \"BND\", \"GLD\", \"QQQ\", \"VTI\"]"
   ]
  },
  {
   "cell_type": "code",
   "execution_count": 3,
   "metadata": {},
   "outputs": [
    {
     "name": "stdout",
     "output_type": "stream",
     "text": [
      "2024-07-13 11:39:37.900898\n"
     ]
    }
   ],
   "source": [
    "end_date = datetime.today()\n",
    "print(end_date)"
   ]
  },
  {
   "cell_type": "code",
   "execution_count": 4,
   "metadata": {},
   "outputs": [
    {
     "name": "stdout",
     "output_type": "stream",
     "text": [
      "2019-07-15 11:39:37.900898\n"
     ]
    }
   ],
   "source": [
    "start_date = end_date - pd.to_timedelta(5 * 365, 'D')\n",
    "print(start_date)"
   ]
  },
  {
   "cell_type": "code",
   "execution_count": 5,
   "metadata": {},
   "outputs": [],
   "source": [
    "adj_close_df = pd.DataFrame()"
   ]
  },
  {
   "cell_type": "code",
   "execution_count": 6,
   "metadata": {},
   "outputs": [
    {
     "name": "stdout",
     "output_type": "stream",
     "text": [
      "[*********************100%%**********************]  1 of 1 completed\n",
      "[*********************100%%**********************]  1 of 1 completed"
     ]
    },
    {
     "name": "stderr",
     "output_type": "stream",
     "text": [
      "/Users/tina/anaconda3/envs/env_py_31011/lib/python3.10/site-packages/yfinance/utils.py:771: FutureWarning: The 'unit' keyword in TimedeltaIndex construction is deprecated and will be removed in a future version. Use pd.to_timedelta instead.\n",
      "  df.index += _pd.TimedeltaIndex(dst_error_hours, 'h')\n",
      "/Users/tina/anaconda3/envs/env_py_31011/lib/python3.10/site-packages/yfinance/utils.py:771: FutureWarning: The 'unit' keyword in TimedeltaIndex construction is deprecated and will be removed in a future version. Use pd.to_timedelta instead.\n",
      "  df.index += _pd.TimedeltaIndex(dst_error_hours, 'h')\n"
     ]
    },
    {
     "name": "stdout",
     "output_type": "stream",
     "text": [
      "\n",
      "[*********************100%%**********************]  1 of 1 completed\n",
      "[*********************100%%**********************]  1 of 1 completed"
     ]
    },
    {
     "name": "stderr",
     "output_type": "stream",
     "text": [
      "/Users/tina/anaconda3/envs/env_py_31011/lib/python3.10/site-packages/yfinance/utils.py:771: FutureWarning: The 'unit' keyword in TimedeltaIndex construction is deprecated and will be removed in a future version. Use pd.to_timedelta instead.\n",
      "  df.index += _pd.TimedeltaIndex(dst_error_hours, 'h')\n",
      "/Users/tina/anaconda3/envs/env_py_31011/lib/python3.10/site-packages/yfinance/utils.py:771: FutureWarning: The 'unit' keyword in TimedeltaIndex construction is deprecated and will be removed in a future version. Use pd.to_timedelta instead.\n",
      "  df.index += _pd.TimedeltaIndex(dst_error_hours, 'h')\n"
     ]
    },
    {
     "name": "stdout",
     "output_type": "stream",
     "text": [
      "\n",
      "[*********************100%%**********************]  1 of 1 completed\n"
     ]
    },
    {
     "name": "stderr",
     "output_type": "stream",
     "text": [
      "/Users/tina/anaconda3/envs/env_py_31011/lib/python3.10/site-packages/yfinance/utils.py:771: FutureWarning: The 'unit' keyword in TimedeltaIndex construction is deprecated and will be removed in a future version. Use pd.to_timedelta instead.\n",
      "  df.index += _pd.TimedeltaIndex(dst_error_hours, 'h')\n"
     ]
    }
   ],
   "source": [
    "for ticker in tickers:\n",
    "    data = yf.download(ticker, start = start_date, end = end_date)\n",
    "    adj_close_df[ticker] = data[\"Adj Close\"]"
   ]
  },
  {
   "cell_type": "code",
   "execution_count": 7,
   "metadata": {},
   "outputs": [
    {
     "name": "stdout",
     "output_type": "stream",
     "text": [
      "                   SPY        BND         GLD         QQQ         VTI\n",
      "Date                                                                 \n",
      "2019-07-15  277.972565  72.419434  133.529999  188.072952  141.750198\n",
      "2019-07-16  277.076050  72.323067  132.399994  187.104248  141.390030\n",
      "2019-07-17  275.190643  72.542107  134.580002  186.183960  140.457474\n",
      "2019-07-18  276.198029  72.673546  136.479996  186.397110  140.974579\n",
      "2019-07-19  274.663788  72.594704  134.470001  185.031219  140.171188\n",
      "...                ...        ...         ...         ...         ...\n",
      "2024-07-08  555.280029  72.400002  218.190002  497.339996  272.489990\n",
      "2024-07-09  555.820007  72.370003  218.559998  497.769989  272.420013\n",
      "2024-07-10  561.320007  72.430000  219.360001  502.959991  275.059998\n",
      "2024-07-11  556.479980  72.790001  223.250000  491.929993  273.829987\n",
      "2024-07-12  559.989990  72.980003  223.110001  494.820007  275.640015\n",
      "\n",
      "[1258 rows x 5 columns]\n"
     ]
    }
   ],
   "source": [
    "print(adj_close_df)"
   ]
  },
  {
   "cell_type": "code",
   "execution_count": 8,
   "metadata": {},
   "outputs": [
    {
     "name": "stderr",
     "output_type": "stream",
     "text": [
      "/Users/tina/anaconda3/envs/env_py_31011/lib/python3.10/site-packages/pandas/core/internals/blocks.py:393: RuntimeWarning: divide by zero encountered in log\n",
      "  result = func(self.values, **kwargs)\n",
      "/Users/tina/anaconda3/envs/env_py_31011/lib/python3.10/site-packages/pandas/core/internals/blocks.py:393: RuntimeWarning: invalid value encountered in log\n",
      "  result = func(self.values, **kwargs)\n"
     ]
    }
   ],
   "source": [
    "log_returns = np.log(adj_close_df - adj_close_df.shift(1))"
   ]
  },
  {
   "cell_type": "code",
   "execution_count": 9,
   "metadata": {},
   "outputs": [
    {
     "data": {
      "text/plain": [
       "SPY    570\n",
       "BND    616\n",
       "GLD    585\n",
       "QQQ    557\n",
       "VTI    568\n",
       "dtype: int64"
      ]
     },
     "execution_count": 9,
     "metadata": {},
     "output_type": "execute_result"
    }
   ],
   "source": [
    "log_returns.replace([np.inf, -np.inf], np.nan, inplace=True)\n",
    "log_returns.isna().sum()"
   ]
  },
  {
   "cell_type": "code",
   "execution_count": 10,
   "metadata": {},
   "outputs": [
    {
     "data": {
      "text/html": [
       "<div>\n",
       "<style scoped>\n",
       "    .dataframe tbody tr th:only-of-type {\n",
       "        vertical-align: middle;\n",
       "    }\n",
       "\n",
       "    .dataframe tbody tr th {\n",
       "        vertical-align: top;\n",
       "    }\n",
       "\n",
       "    .dataframe thead th {\n",
       "        text-align: right;\n",
       "    }\n",
       "</style>\n",
       "<table border=\"1\" class=\"dataframe\">\n",
       "  <thead>\n",
       "    <tr style=\"text-align: right;\">\n",
       "      <th></th>\n",
       "      <th>SPY</th>\n",
       "      <th>BND</th>\n",
       "      <th>GLD</th>\n",
       "      <th>QQQ</th>\n",
       "      <th>VTI</th>\n",
       "    </tr>\n",
       "    <tr>\n",
       "      <th>Date</th>\n",
       "      <th></th>\n",
       "      <th></th>\n",
       "      <th></th>\n",
       "      <th></th>\n",
       "      <th></th>\n",
       "    </tr>\n",
       "  </thead>\n",
       "  <tbody>\n",
       "    <tr>\n",
       "      <th>2019-07-15</th>\n",
       "      <td>NaN</td>\n",
       "      <td>NaN</td>\n",
       "      <td>NaN</td>\n",
       "      <td>NaN</td>\n",
       "      <td>NaN</td>\n",
       "    </tr>\n",
       "    <tr>\n",
       "      <th>2019-07-16</th>\n",
       "      <td>NaN</td>\n",
       "      <td>NaN</td>\n",
       "      <td>NaN</td>\n",
       "      <td>NaN</td>\n",
       "      <td>NaN</td>\n",
       "    </tr>\n",
       "    <tr>\n",
       "      <th>2019-07-17</th>\n",
       "      <td>NaN</td>\n",
       "      <td>-1.518501</td>\n",
       "      <td>0.779329</td>\n",
       "      <td>NaN</td>\n",
       "      <td>NaN</td>\n",
       "    </tr>\n",
       "    <tr>\n",
       "      <th>2019-07-18</th>\n",
       "      <td>0.007358</td>\n",
       "      <td>-2.029211</td>\n",
       "      <td>0.641851</td>\n",
       "      <td>-1.545759</td>\n",
       "      <td>-0.659509</td>\n",
       "    </tr>\n",
       "    <tr>\n",
       "      <th>2019-07-19</th>\n",
       "      <td>0.007358</td>\n",
       "      <td>-2.029211</td>\n",
       "      <td>0.641851</td>\n",
       "      <td>-1.545759</td>\n",
       "      <td>-0.659509</td>\n",
       "    </tr>\n",
       "    <tr>\n",
       "      <th>...</th>\n",
       "      <td>...</td>\n",
       "      <td>...</td>\n",
       "      <td>...</td>\n",
       "      <td>...</td>\n",
       "      <td>...</td>\n",
       "    </tr>\n",
       "    <tr>\n",
       "      <th>2024-07-08</th>\n",
       "      <td>-0.446264</td>\n",
       "      <td>-1.108657</td>\n",
       "      <td>1.078405</td>\n",
       "      <td>0.165508</td>\n",
       "      <td>-0.994265</td>\n",
       "    </tr>\n",
       "    <tr>\n",
       "      <th>2024-07-09</th>\n",
       "      <td>-0.616227</td>\n",
       "      <td>-1.108657</td>\n",
       "      <td>-0.994265</td>\n",
       "      <td>-0.843987</td>\n",
       "      <td>-0.994265</td>\n",
       "    </tr>\n",
       "    <tr>\n",
       "      <th>2024-07-10</th>\n",
       "      <td>1.704748</td>\n",
       "      <td>-2.813451</td>\n",
       "      <td>-0.223140</td>\n",
       "      <td>1.646734</td>\n",
       "      <td>0.970773</td>\n",
       "    </tr>\n",
       "    <tr>\n",
       "      <th>2024-07-11</th>\n",
       "      <td>1.704748</td>\n",
       "      <td>-1.021650</td>\n",
       "      <td>1.358409</td>\n",
       "      <td>1.646734</td>\n",
       "      <td>0.970773</td>\n",
       "    </tr>\n",
       "    <tr>\n",
       "      <th>2024-07-12</th>\n",
       "      <td>1.255619</td>\n",
       "      <td>-1.660718</td>\n",
       "      <td>1.358409</td>\n",
       "      <td>1.061262</td>\n",
       "      <td>0.593342</td>\n",
       "    </tr>\n",
       "  </tbody>\n",
       "</table>\n",
       "<p>1258 rows × 5 columns</p>\n",
       "</div>"
      ],
      "text/plain": [
       "                 SPY       BND       GLD       QQQ       VTI\n",
       "Date                                                        \n",
       "2019-07-15       NaN       NaN       NaN       NaN       NaN\n",
       "2019-07-16       NaN       NaN       NaN       NaN       NaN\n",
       "2019-07-17       NaN -1.518501  0.779329       NaN       NaN\n",
       "2019-07-18  0.007358 -2.029211  0.641851 -1.545759 -0.659509\n",
       "2019-07-19  0.007358 -2.029211  0.641851 -1.545759 -0.659509\n",
       "...              ...       ...       ...       ...       ...\n",
       "2024-07-08 -0.446264 -1.108657  1.078405  0.165508 -0.994265\n",
       "2024-07-09 -0.616227 -1.108657 -0.994265 -0.843987 -0.994265\n",
       "2024-07-10  1.704748 -2.813451 -0.223140  1.646734  0.970773\n",
       "2024-07-11  1.704748 -1.021650  1.358409  1.646734  0.970773\n",
       "2024-07-12  1.255619 -1.660718  1.358409  1.061262  0.593342\n",
       "\n",
       "[1258 rows x 5 columns]"
      ]
     },
     "execution_count": 10,
     "metadata": {},
     "output_type": "execute_result"
    }
   ],
   "source": [
    "log_returns.ffill()"
   ]
  },
  {
   "cell_type": "code",
   "execution_count": 11,
   "metadata": {},
   "outputs": [
    {
     "data": {
      "text/html": [
       "<div>\n",
       "<style scoped>\n",
       "    .dataframe tbody tr th:only-of-type {\n",
       "        vertical-align: middle;\n",
       "    }\n",
       "\n",
       "    .dataframe tbody tr th {\n",
       "        vertical-align: top;\n",
       "    }\n",
       "\n",
       "    .dataframe thead th {\n",
       "        text-align: right;\n",
       "    }\n",
       "</style>\n",
       "<table border=\"1\" class=\"dataframe\">\n",
       "  <thead>\n",
       "    <tr style=\"text-align: right;\">\n",
       "      <th></th>\n",
       "      <th>SPY</th>\n",
       "      <th>BND</th>\n",
       "      <th>GLD</th>\n",
       "      <th>QQQ</th>\n",
       "      <th>VTI</th>\n",
       "    </tr>\n",
       "    <tr>\n",
       "      <th>Date</th>\n",
       "      <th></th>\n",
       "      <th></th>\n",
       "      <th></th>\n",
       "      <th></th>\n",
       "      <th></th>\n",
       "    </tr>\n",
       "  </thead>\n",
       "  <tbody>\n",
       "    <tr>\n",
       "      <th>2019-07-18</th>\n",
       "      <td>0.007358</td>\n",
       "      <td>-2.029211</td>\n",
       "      <td>0.641851</td>\n",
       "      <td>-1.545759</td>\n",
       "      <td>-0.659509</td>\n",
       "    </tr>\n",
       "    <tr>\n",
       "      <th>2019-07-24</th>\n",
       "      <td>0.264840</td>\n",
       "      <td>-2.657304</td>\n",
       "      <td>-0.385673</td>\n",
       "      <td>0.275682</td>\n",
       "      <td>-0.141586</td>\n",
       "    </tr>\n",
       "    <tr>\n",
       "      <th>2019-08-06</th>\n",
       "      <td>1.302538</td>\n",
       "      <td>-1.690552</td>\n",
       "      <td>0.113338</td>\n",
       "      <td>0.896404</td>\n",
       "      <td>0.556883</td>\n",
       "    </tr>\n",
       "    <tr>\n",
       "      <th>2019-08-08</th>\n",
       "      <td>1.652907</td>\n",
       "      <td>-2.789081</td>\n",
       "      <td>-0.342502</td>\n",
       "      <td>1.356988</td>\n",
       "      <td>0.949935</td>\n",
       "    </tr>\n",
       "    <tr>\n",
       "      <th>2019-09-04</th>\n",
       "      <td>1.115168</td>\n",
       "      <td>-1.960411</td>\n",
       "      <td>-0.094307</td>\n",
       "      <td>0.954051</td>\n",
       "      <td>0.377699</td>\n",
       "    </tr>\n",
       "    <tr>\n",
       "      <th>...</th>\n",
       "      <td>...</td>\n",
       "      <td>...</td>\n",
       "      <td>...</td>\n",
       "      <td>...</td>\n",
       "      <td>...</td>\n",
       "    </tr>\n",
       "    <tr>\n",
       "      <th>2024-06-18</th>\n",
       "      <td>0.326104</td>\n",
       "      <td>-1.389351</td>\n",
       "      <td>-0.150822</td>\n",
       "      <td>-1.898790</td>\n",
       "      <td>-0.389180</td>\n",
       "    </tr>\n",
       "    <tr>\n",
       "      <th>2024-06-27</th>\n",
       "      <td>-0.150840</td>\n",
       "      <td>-2.043357</td>\n",
       "      <td>0.879628</td>\n",
       "      <td>0.215104</td>\n",
       "      <td>-0.434320</td>\n",
       "    </tr>\n",
       "    <tr>\n",
       "      <th>2024-07-03</th>\n",
       "      <td>0.896093</td>\n",
       "      <td>-0.891608</td>\n",
       "      <td>0.887895</td>\n",
       "      <td>1.401182</td>\n",
       "      <td>0.104347</td>\n",
       "    </tr>\n",
       "    <tr>\n",
       "      <th>2024-07-05</th>\n",
       "      <td>1.156879</td>\n",
       "      <td>-1.108657</td>\n",
       "      <td>1.078405</td>\n",
       "      <td>1.633153</td>\n",
       "      <td>0.343592</td>\n",
       "    </tr>\n",
       "    <tr>\n",
       "      <th>2024-07-10</th>\n",
       "      <td>1.704748</td>\n",
       "      <td>-2.813451</td>\n",
       "      <td>-0.223140</td>\n",
       "      <td>1.646734</td>\n",
       "      <td>0.970773</td>\n",
       "    </tr>\n",
       "  </tbody>\n",
       "</table>\n",
       "<p>222 rows × 5 columns</p>\n",
       "</div>"
      ],
      "text/plain": [
       "                 SPY       BND       GLD       QQQ       VTI\n",
       "Date                                                        \n",
       "2019-07-18  0.007358 -2.029211  0.641851 -1.545759 -0.659509\n",
       "2019-07-24  0.264840 -2.657304 -0.385673  0.275682 -0.141586\n",
       "2019-08-06  1.302538 -1.690552  0.113338  0.896404  0.556883\n",
       "2019-08-08  1.652907 -2.789081 -0.342502  1.356988  0.949935\n",
       "2019-09-04  1.115168 -1.960411 -0.094307  0.954051  0.377699\n",
       "...              ...       ...       ...       ...       ...\n",
       "2024-06-18  0.326104 -1.389351 -0.150822 -1.898790 -0.389180\n",
       "2024-06-27 -0.150840 -2.043357  0.879628  0.215104 -0.434320\n",
       "2024-07-03  0.896093 -0.891608  0.887895  1.401182  0.104347\n",
       "2024-07-05  1.156879 -1.108657  1.078405  1.633153  0.343592\n",
       "2024-07-10  1.704748 -2.813451 -0.223140  1.646734  0.970773\n",
       "\n",
       "[222 rows x 5 columns]"
      ]
     },
     "execution_count": 11,
     "metadata": {},
     "output_type": "execute_result"
    }
   ],
   "source": [
    "log_returns.dropna(inplace=True)\n",
    "log_returns"
   ]
  },
  {
   "cell_type": "code",
   "execution_count": 12,
   "metadata": {},
   "outputs": [
    {
     "data": {
      "text/html": [
       "<div>\n",
       "<style scoped>\n",
       "    .dataframe tbody tr th:only-of-type {\n",
       "        vertical-align: middle;\n",
       "    }\n",
       "\n",
       "    .dataframe tbody tr th {\n",
       "        vertical-align: top;\n",
       "    }\n",
       "\n",
       "    .dataframe thead th {\n",
       "        text-align: right;\n",
       "    }\n",
       "</style>\n",
       "<table border=\"1\" class=\"dataframe\">\n",
       "  <thead>\n",
       "    <tr style=\"text-align: right;\">\n",
       "      <th></th>\n",
       "      <th>SPY</th>\n",
       "      <th>BND</th>\n",
       "      <th>GLD</th>\n",
       "      <th>QQQ</th>\n",
       "      <th>VTI</th>\n",
       "    </tr>\n",
       "    <tr>\n",
       "      <th>Date</th>\n",
       "      <th></th>\n",
       "      <th></th>\n",
       "      <th></th>\n",
       "      <th></th>\n",
       "      <th></th>\n",
       "    </tr>\n",
       "  </thead>\n",
       "  <tbody>\n",
       "    <tr>\n",
       "      <th>2019-07-18</th>\n",
       "      <td>0.007358</td>\n",
       "      <td>-2.029211</td>\n",
       "      <td>0.641851</td>\n",
       "      <td>-1.545759</td>\n",
       "      <td>-0.659509</td>\n",
       "    </tr>\n",
       "    <tr>\n",
       "      <th>2019-07-24</th>\n",
       "      <td>0.264840</td>\n",
       "      <td>-2.657304</td>\n",
       "      <td>-0.385673</td>\n",
       "      <td>0.275682</td>\n",
       "      <td>-0.141586</td>\n",
       "    </tr>\n",
       "    <tr>\n",
       "      <th>2019-08-06</th>\n",
       "      <td>1.302538</td>\n",
       "      <td>-1.690552</td>\n",
       "      <td>0.113338</td>\n",
       "      <td>0.896404</td>\n",
       "      <td>0.556883</td>\n",
       "    </tr>\n",
       "    <tr>\n",
       "      <th>2019-08-08</th>\n",
       "      <td>1.652907</td>\n",
       "      <td>-2.789081</td>\n",
       "      <td>-0.342502</td>\n",
       "      <td>1.356988</td>\n",
       "      <td>0.949935</td>\n",
       "    </tr>\n",
       "    <tr>\n",
       "      <th>2019-09-04</th>\n",
       "      <td>1.115168</td>\n",
       "      <td>-1.960411</td>\n",
       "      <td>-0.094307</td>\n",
       "      <td>0.954051</td>\n",
       "      <td>0.377699</td>\n",
       "    </tr>\n",
       "    <tr>\n",
       "      <th>...</th>\n",
       "      <td>...</td>\n",
       "      <td>...</td>\n",
       "      <td>...</td>\n",
       "      <td>...</td>\n",
       "      <td>...</td>\n",
       "    </tr>\n",
       "    <tr>\n",
       "      <th>2024-06-18</th>\n",
       "      <td>0.326104</td>\n",
       "      <td>-1.389351</td>\n",
       "      <td>-0.150822</td>\n",
       "      <td>-1.898790</td>\n",
       "      <td>-0.389180</td>\n",
       "    </tr>\n",
       "    <tr>\n",
       "      <th>2024-06-27</th>\n",
       "      <td>-0.150840</td>\n",
       "      <td>-2.043357</td>\n",
       "      <td>0.879628</td>\n",
       "      <td>0.215104</td>\n",
       "      <td>-0.434320</td>\n",
       "    </tr>\n",
       "    <tr>\n",
       "      <th>2024-07-03</th>\n",
       "      <td>0.896093</td>\n",
       "      <td>-0.891608</td>\n",
       "      <td>0.887895</td>\n",
       "      <td>1.401182</td>\n",
       "      <td>0.104347</td>\n",
       "    </tr>\n",
       "    <tr>\n",
       "      <th>2024-07-05</th>\n",
       "      <td>1.156879</td>\n",
       "      <td>-1.108657</td>\n",
       "      <td>1.078405</td>\n",
       "      <td>1.633153</td>\n",
       "      <td>0.343592</td>\n",
       "    </tr>\n",
       "    <tr>\n",
       "      <th>2024-07-10</th>\n",
       "      <td>1.704748</td>\n",
       "      <td>-2.813451</td>\n",
       "      <td>-0.223140</td>\n",
       "      <td>1.646734</td>\n",
       "      <td>0.970773</td>\n",
       "    </tr>\n",
       "  </tbody>\n",
       "</table>\n",
       "<p>222 rows × 5 columns</p>\n",
       "</div>"
      ],
      "text/plain": [
       "                 SPY       BND       GLD       QQQ       VTI\n",
       "Date                                                        \n",
       "2019-07-18  0.007358 -2.029211  0.641851 -1.545759 -0.659509\n",
       "2019-07-24  0.264840 -2.657304 -0.385673  0.275682 -0.141586\n",
       "2019-08-06  1.302538 -1.690552  0.113338  0.896404  0.556883\n",
       "2019-08-08  1.652907 -2.789081 -0.342502  1.356988  0.949935\n",
       "2019-09-04  1.115168 -1.960411 -0.094307  0.954051  0.377699\n",
       "...              ...       ...       ...       ...       ...\n",
       "2024-06-18  0.326104 -1.389351 -0.150822 -1.898790 -0.389180\n",
       "2024-06-27 -0.150840 -2.043357  0.879628  0.215104 -0.434320\n",
       "2024-07-03  0.896093 -0.891608  0.887895  1.401182  0.104347\n",
       "2024-07-05  1.156879 -1.108657  1.078405  1.633153  0.343592\n",
       "2024-07-10  1.704748 -2.813451 -0.223140  1.646734  0.970773\n",
       "\n",
       "[222 rows x 5 columns]"
      ]
     },
     "execution_count": 12,
     "metadata": {},
     "output_type": "execute_result"
    }
   ],
   "source": [
    "log_returns"
   ]
  },
  {
   "cell_type": "code",
   "execution_count": 13,
   "metadata": {},
   "outputs": [
    {
     "name": "stdout",
     "output_type": "stream",
     "text": [
      "            SPY         BND         GLD         QQQ         VTI\n",
      "SPY  274.087462   71.899198   67.601934  232.547554  266.716465\n",
      "BND   71.899198  260.164275   93.500600   68.361604   62.866779\n",
      "GLD   67.601934   93.500600  276.795267   65.840791   58.194692\n",
      "QQQ  232.547554   68.361604   65.840791  346.682578  230.724652\n",
      "VTI  266.716465   62.866779   58.194692  230.724652  291.410019\n"
     ]
    }
   ],
   "source": [
    "# Covariance matrix\n",
    "cov_matrix = log_returns.cov() * 252\n",
    "print(cov_matrix)"
   ]
  },
  {
   "cell_type": "code",
   "execution_count": 14,
   "metadata": {},
   "outputs": [],
   "source": [
    "def standard_deviation(weights, cov_matrix):\n",
    "    variance = weights.T @ cov_matrix @ weights\n",
    "    return np.sqrt(variance)"
   ]
  },
  {
   "cell_type": "code",
   "execution_count": 15,
   "metadata": {},
   "outputs": [],
   "source": [
    "def expected_return(weights, log_returns):\n",
    "    return np.sum(log_returns.mean() * weights) * 252"
   ]
  },
  {
   "cell_type": "markdown",
   "metadata": {},
   "source": [
    "$$\n",
    "SharpeRatio = {portfolioReturn - riskFreeRate \\over portfolioStd}\n",
    "$$"
   ]
  },
  {
   "cell_type": "code",
   "execution_count": 16,
   "metadata": {},
   "outputs": [],
   "source": [
    "def sharpe_ratio(weights, log_returns, cov_matrix, risk_free_rate):\n",
    "    return (expected_return(weights, log_returns) - risk_free_rate) / standard_deviation(weights, cov_matrix)"
   ]
  },
  {
   "cell_type": "code",
   "execution_count": 50,
   "metadata": {},
   "outputs": [
    {
     "name": "stderr",
     "output_type": "stream",
     "text": [
      "/Users/tina/anaconda3/envs/env_py_31011/lib/python3.10/site-packages/yfinance/utils.py:771: FutureWarning: The 'unit' keyword in TimedeltaIndex construction is deprecated and will be removed in a future version. Use pd.to_timedelta instead.\n",
      "  df.index += _pd.TimedeltaIndex(dst_error_hours, 'h')\n"
     ]
    },
    {
     "data": {
      "text/plain": [
       "0.04189000129699707"
      ]
     },
     "execution_count": 50,
     "metadata": {},
     "output_type": "execute_result"
    }
   ],
   "source": [
    "# Define the ticker symbol for the 10-year Treasury bond yield\n",
    "ticker = \"^TNX\"\n",
    "\n",
    "# Fetch the data\n",
    "ten_year_treasury = yf.Ticker(ticker)\n",
    "\n",
    "# Get the historical market data (we'll just fetch the latest data point)\n",
    "#hist = ten_year_treasury.history(start=end_date, end=end_date)\n",
    "hist = ten_year_treasury.history(period=\"300d\")\n",
    "\n",
    "# Extract the latest closing price (which represents the yield)\n",
    "risk_free_rate = hist['Close'].iloc[-1] / 100\n",
    "risk_free_rate"
   ]
  },
  {
   "cell_type": "code",
   "execution_count": 56,
   "metadata": {},
   "outputs": [],
   "source": [
    "def neg_sharpe_ratio(weights, log_returns, cov_matrix, risk_free_rate):\n",
    "    return -sharpe_ratio(weights, log_returns, cov_matrix, risk_free_rate)"
   ]
  },
  {
   "cell_type": "code",
   "execution_count": 57,
   "metadata": {},
   "outputs": [],
   "source": [
    "constraints = {'type': 'eq', 'fun': lambda weights: np.sum(weights) - 1}\n",
    "bounds = [(0, 0.5) for _ in range(len(tickers))]"
   ]
  },
  {
   "cell_type": "code",
   "execution_count": 58,
   "metadata": {},
   "outputs": [
    {
     "name": "stdout",
     "output_type": "stream",
     "text": [
      "[0.2 0.2 0.2 0.2 0.2]\n"
     ]
    }
   ],
   "source": [
    "initial_weights = np.repeat(1/len(tickers), len(tickers))\n",
    "print(initial_weights)"
   ]
  },
  {
   "cell_type": "code",
   "execution_count": 59,
   "metadata": {},
   "outputs": [],
   "source": [
    "optimize_results = minimize(neg_sharpe_ratio, initial_weights, args = (log_returns, cov_matrix, risk_free_rate), method = 'SLSQP',\n",
    "                            constraints=constraints, bounds=bounds)"
   ]
  },
  {
   "cell_type": "code",
   "execution_count": 60,
   "metadata": {},
   "outputs": [],
   "source": [
    "optimal_weights = optimize_results.x"
   ]
  },
  {
   "cell_type": "code",
   "execution_count": 62,
   "metadata": {},
   "outputs": [
    {
     "name": "stdout",
     "output_type": "stream",
     "text": [
      "Optimal weights:\n",
      "SPY: 0.5000\n",
      "BND: 0.0000\n",
      "GLD: 0.0000\n",
      "QQQ: 0.5000\n",
      "VTI: 0.0000\n",
      "\n",
      "Expected Annual Return: 225.3163\n",
      "Expected Portfolio Volatility: 16.4762\n",
      "Expected Sharpe ratio: 13.6727\n"
     ]
    }
   ],
   "source": [
    "print(\"Optimal weights:\")\n",
    "for ticker, weight in zip(tickers, optimal_weights):\n",
    "    print(f\"{ticker}: {weight:.4f}\")\n",
    "\n",
    "print()\n",
    "\n",
    "optimal_portfolio_return = expected_return(optimal_weights, log_returns)\n",
    "optimal_portfolio_volatility = standard_deviation(optimal_weights, cov_matrix)\n",
    "optimal_sharpe_ratio = sharpe_ratio(optimal_weights, log_returns, cov_matrix, risk_free_rate)\n",
    "\n",
    "print(f\"Expected Annual Return: {optimal_portfolio_return:.4f}\")\n",
    "print(f\"Expected Portfolio Volatility: {optimal_portfolio_volatility:.4f}\")\n",
    "print(f\"Expected Sharpe ratio: {optimal_sharpe_ratio:.4f}\")"
   ]
  }
 ],
 "metadata": {
  "kernelspec": {
   "display_name": "env_py_31011",
   "language": "python",
   "name": "python3"
  },
  "language_info": {
   "codemirror_mode": {
    "name": "ipython",
    "version": 3
   },
   "file_extension": ".py",
   "mimetype": "text/x-python",
   "name": "python",
   "nbconvert_exporter": "python",
   "pygments_lexer": "ipython3",
   "version": "3.10.14"
  }
 },
 "nbformat": 4,
 "nbformat_minor": 2
}
